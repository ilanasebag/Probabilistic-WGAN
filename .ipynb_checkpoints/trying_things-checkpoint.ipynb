{
 "cells": [
  {
   "cell_type": "code",
   "execution_count": 1,
   "id": "627e6c6e-90b3-4665-936b-02273877f70a",
   "metadata": {},
   "outputs": [],
   "source": [
    "import numpy as np\n",
    "import torch \n",
    "from torch import optim, softmax\n",
    "import torch.nn as nn \n",
    "import scipy\n",
    "import torch.nn as nn\n",
    "import torch.optim as optim\n",
    "import matplotlib.pyplot as plt\n",
    "import tqdm as tqdm\n",
    "from tqdm import *\n",
    "import seaborn"
   ]
  },
  {
   "cell_type": "code",
   "execution_count": 2,
   "id": "b1b5c1ca-7456-46be-aa41-e870addb1517",
   "metadata": {},
   "outputs": [],
   "source": [
    "from training import double_train, x\n",
    "from utils import affine_transformation, gaussian_icdf, gmm_2modes_icdf, quadratic, quartic\n",
    "from plot_helpers import params_recovery, loss_fit"
   ]
  },
  {
   "cell_type": "markdown",
   "id": "3573c7eb-6b33-430d-a77c-ae3b879400ee",
   "metadata": {
    "jp-MarkdownHeadingCollapsed": true,
    "tags": []
   },
   "source": [
    "## PARAMS; GMM ICDF; QUADRATIC; ENTROPY"
   ]
  },
  {
   "cell_type": "code",
   "execution_count": 35,
   "id": "7b89a027-d0d0-4f8f-bced-7f116fc97c24",
   "metadata": {
    "tags": []
   },
   "outputs": [
    {
     "name": "stderr",
     "output_type": "stream",
     "text": [
      "100%|██████████| 50000/50000 [00:10<00:00, 4942.11it/s]\n"
     ]
    }
   ],
   "source": [
    "sampled_gen = []\n",
    "for _ in tqdm(range(50000)):\n",
    "    eps = G.simulate()\n",
    "    sampled_gen.append(G.noise_to_x(eps).detach().numpy().item())"
   ]
  },
  {
   "cell_type": "code",
   "execution_count": 36,
   "id": "402b4dc1-ddf8-4465-bf2c-9abdcc6312b3",
   "metadata": {},
   "outputs": [],
   "source": [
    "xmin = -15\n",
    "xmax = 15\n",
    "xx = torch.Tensor(np.linspace(xmin,xmax,1000))\n",
    "Z = torch.mean(torch.exp(logd(xx))) * (xmax - xmin) "
   ]
  },
  {
   "cell_type": "code",
   "execution_count": 37,
   "id": "dedb497f-df78-4909-8f46-cf1e5e71b389",
   "metadata": {},
   "outputs": [
    {
     "data": {
      "image/png": "[encoded data removed]",
      "text/plain": [
       "<Figure size 480x320 with 1 Axes>"
      ]
     },
     "metadata": {
      "needs_background": "light"
     },
     "output_type": "display_data"
    }
   ],
   "source": [
    "fig, ax = plt.subplots()\n",
    "seaborn.kdeplot(np.hstack(sampled_gen), label='generator') #kernel density plot \n",
    "ax.plot(xx, (torch.exp(logd(xx))/Z).detach().numpy(), label ='full model D/Z')\n",
    "ax.legend()\n",
    "fig.set_dpi(80)"
   ]
  },
  {
   "cell_type": "code",
   "execution_count": 6,
   "id": "4e70c023-6261-454a-b16a-b02b326a2e77",
   "metadata": {},
   "outputs": [],
   "source": [
    "G = gmm_2modes_icdf()\n",
    "D = quadratic(3, 1) #change init to check robustness \n",
    "learning_rate = 1e-4\n",
    "epochs= 500000\n",
    "entropy = True"
   ]
  },
  {
   "cell_type": "code",
   "execution_count": 7,
   "id": "6dac6bfc-adaa-4a80-b197-1f6546c5bc67",
   "metadata": {},
   "outputs": [],
   "source": [
    "def double_train_multi(x, G, D, learning_rate, epochs, entropy):\n",
    "    logd = D.logd\n",
    "    lg=[]\n",
    "    ld=[]\n",
    "    optimizer_D=optim.Adam([D.mu_k, D.log_sigma_k], lr=learning_rate)\n",
    "    optimizer_G=optim.Adam([G.mu_q, G.log_sigma_q, G.weights],lr=learning_rate)\n",
    "    for param in G.parameters():\n",
    "        param.requires_grad = True\n",
    "    for param in D.parameters():\n",
    "        param.requires_grad = True\n",
    "        \n",
    "    for epoch in tqdm(range(epochs)):\n",
    "        eps = G.simulate()\n",
    "        x_ = G.noise_to_x(eps)\n",
    "        \n",
    "        ##### DISCRIMINATOR'S TRAINING #####\n",
    "        \n",
    "        optimizer_D.zero_grad()\n",
    "        loss_D = - torch.mean(logd(x)) + torch.mean(logd(x_))\n",
    "        loss_D.backward(retain_graph=True)\n",
    "        optimizer_D.step()\n",
    "\n",
    "        ld.append(loss_D.item())\n",
    "        \n",
    "        #define q (entropy)\n",
    "        q = torch.distributions.Normal(G.mu_q, torch.exp(G.log_sigma_q))\n",
    "        \n",
    "        ##### GENERATOR'S TRAINING #####\n",
    "        \n",
    "        optimizer_G.zero_grad()\n",
    "        loss_G = - torch.mean(logd(x_)) + torch.mean(G.logprob(x_))\n",
    "        loss_G.backward(retain_graph=True)\n",
    "        optimizer_G.step()\n",
    "        \n",
    "        lg.append(loss_G.item())\n",
    "        \n",
    "       # if epoch%400==0 or epoch == (epochs-1) :\n",
    "       #     sampled_gen = []\n",
    "       #     for _ in range(1000):\n",
    "       #         eps = G.simulate()\n",
    "       #         sampled_gen.append(G.noise_to_x(eps).detach().numpy().item())\n",
    "        \n",
    "       #     xmin = -10\n",
    "       #     xmax = 20\n",
    "       #     xx = torch.Tensor(np.linspace(xmin,xmax,1000))\n",
    "       #     Z = torch.mean(torch.exp(D.logd(xx))) * (xmax - xmin) \n",
    "\n",
    "        #    fig, ax = plt.subplots()\n",
    "        #   seaborn.kdeplot(np.hstack(sampled_gen), label='generator', color = 'slateblue') #kernel density plot \n",
    "        #    ax.plot(xx, (torch.exp(D.logd(xx))/Z).detach().numpy(), label ='full model D/Z', color = 'darksalmon')\n",
    "        #    ax.legend()\n",
    "        #    fig.set_dpi(70)\n",
    "        #    fig.show()\n",
    "\n",
    "        #logZ = log_quadrature(logd, xmin, xmax, it)\n",
    "        #lb = lower_bound_torch(logd, G, optimizer_G, 0, it)\n",
    "        #print('lb=',lb.item(), 'logZ=',logZ.item())\n",
    "        #print(D.theta1, D.theta2, D.theta3, D.theta4)\n",
    "\n",
    "        #plt.figure()\n",
    "        #plt.plot(xx, (torch.exp(logd(xx)-lb)).detach().numpy(), label = 'D/approx_Z')\n",
    "        #seaborn.kdeplot(np.hstack(x), label='data') \n",
    "        #plt.legend()\n",
    "        #plt.show()\n",
    "\n",
    "    return lg, ld"
   ]
  },
  {
   "cell_type": "code",
   "execution_count": 8,
   "id": "6c821acc-5abd-4648-815f-291ba6f7fb3c",
   "metadata": {},
   "outputs": [
    {
     "name": "stderr",
     "output_type": "stream",
     "text": [
      "  0%|          | 0/500000 [00:00<?, ?it/s]/mnt/nfs/home/i.sebag/PWGAN2/utils.py:62: UserWarning: Implicit dimension choice for softmax has been deprecated. Change the call to include dim=X as an argument.\n",
      "  softmax_weights = F.softmax(self.weights)\n",
      "/mnt/nfs/home/i.sebag/PWGAN2/utils.py:83: UserWarning: Implicit dimension choice for softmax has been deprecated. Change the call to include dim=X as an argument.\n",
      "  softmax_weights = F.softmax(self.weights)\n",
      "100%|██████████| 500000/500000 [14:49<00:00, 561.82it/s]\n"
     ]
    }
   ],
   "source": [
    "lg, ld = double_train_multi(x, G, D, learning_rate, epochs, entropy)"
   ]
  },
  {
   "cell_type": "code",
   "execution_count": 9,
   "id": "2a555d79-af7b-46ac-bbc8-dc795bf11ef3",
   "metadata": {},
   "outputs": [
    {
     "data": {
      "image/png": "[encoded data removed]",
      "text/plain": [
       "<Figure size 420x280 with 1 Axes>"
      ]
     },
     "metadata": {
      "needs_background": "light"
     },
     "output_type": "display_data"
    }
   ],
   "source": [
    "fig, ax = plt.subplots()\n",
    "plt.plot(np.convolve(lg,np.ones(10)/10)[10:len(lg)-10], label = 'lg', color = 'indigo')\n",
    "plt.plot(np.convolve(ld,np.ones(100)/100)[100:len(ld)-100], label = 'ld', color = 'saddlebrown')\n",
    "fig.set_dpi(70)\n",
    "plt.legend()\n",
    "plt.show()"
   ]
  },
  {
   "cell_type": "code",
   "execution_count": 10,
   "id": "cc6f140f-bb70-4b04-898c-0a4fe223b792",
   "metadata": {},
   "outputs": [
    {
     "name": "stderr",
     "output_type": "stream",
     "text": [
      "  0%|          | 0/100000 [00:00<?, ?it/s]/mnt/nfs/home/i.sebag/PWGAN2/utils.py:62: UserWarning: Implicit dimension choice for softmax has been deprecated. Change the call to include dim=X as an argument.\n",
      "  softmax_weights = F.softmax(self.weights)\n",
      "100%|██████████| 100000/100000 [00:19<00:00, 5099.96it/s]\n"
     ]
    }
   ],
   "source": [
    "sampled_gen = []\n",
    "for _ in tqdm(range(100000)):\n",
    "    eps = G.simulate()\n",
    "    sampled_gen.append(G.noise_to_x(eps).detach().numpy().item())"
   ]
  },
  {
   "cell_type": "code",
   "execution_count": 14,
   "id": "b3eb660f-f198-4d9d-9fa8-8badc1331561",
   "metadata": {},
   "outputs": [
    {
     "data": {
      "image/png": "[encoded data removed]",
      "text/plain": [
       "<Figure size 420x280 with 1 Axes>"
      ]
     },
     "metadata": {
      "needs_background": "light"
     },
     "output_type": "display_data"
    }
   ],
   "source": [
    "xmin = -10\n",
    "xmax = 20\n",
    "xx = torch.Tensor(np.linspace(xmin,xmax,1000))\n",
    "Z = torch.mean(torch.exp(D.logd(xx))) * (xmax - xmin) \n",
    "\n",
    "fig, ax = plt.subplots()\n",
    "seaborn.kdeplot(np.hstack(sampled_gen), label='generator', color = 'slateblue') #kernel density plot \n",
    "ax.plot(xx, (torch.exp(D.logd(xx))/Z).detach().numpy(), label ='full model D/Z', color = 'darksalmon')\n",
    "ax.legend()\n",
    "fig.set_dpi(70)"
   ]
  },
  {
   "cell_type": "markdown",
   "id": "7340dbd4-2c0b-44e0-bf70-60c74ec38e28",
   "metadata": {},
   "source": [
    "## Training of the quartic discriminator only "
   ]
  },
  {
   "cell_type": "code",
   "execution_count": 3,
   "id": "a8489c87-9417-4772-9b11-4a51e99064a4",
   "metadata": {},
   "outputs": [],
   "source": [
    "G = gmm_2modes_icdf()\n",
    "D = quartic() \n",
    "learning_rate = 1e-4\n",
    "epochs= 500000\n",
    "entropy=True"
   ]
  },
  {
   "cell_type": "code",
   "execution_count": 4,
   "id": "5dae2eba-9561-400f-b3ef-99410c933217",
   "metadata": {},
   "outputs": [],
   "source": [
    "def train_discr(G, D, learning_rate, epochs, entropy=True):\n",
    "\n",
    "    logd = D.logd\n",
    "    ld=[]\n",
    "    optimizer_D=optim.Adam([D.theta1, D.theta2, D.theta3, D.theta4], lr=learning_rate)\n",
    "\n",
    "    for param in D.parameters():\n",
    "        param.requires_grad = True \n",
    "\n",
    "    for _ in tqdm(range(epochs)):\n",
    "\n",
    "        eps = G.simulate()\n",
    "        x_ = G.noise_to_x(eps)\n",
    "    \n",
    "        #### DISCRIMINATOR'S TRAINING ####\n",
    "\n",
    "        optimizer_D.zero_grad()\n",
    "        loss_D = - torch.mean(logd(x)) + torch.mean(logd(x_))\n",
    "        loss_D.backward(retain_graph=True)\n",
    "        optimizer_D.step()\n",
    "\n",
    "        ld.append(loss_D.item())\n",
    "       \n",
    "    return ld"
   ]
  },
  {
   "cell_type": "code",
   "execution_count": 5,
   "id": "405efd84-7459-4526-8ca5-0ef0419eb128",
   "metadata": {},
   "outputs": [
    {
     "name": "stderr",
     "output_type": "stream",
     "text": [
      "  0%|          | 0/500000 [00:00<?, ?it/s]/mnt/nfs/home/i.sebag/PWGAN2/utils.py:62: UserWarning: Implicit dimension choice for softmax has been deprecated. Change the call to include dim=X as an argument.\n",
      "  softmax_weights = F.softmax(self.weights)\n",
      "100%|██████████| 500000/500000 [07:12<00:00, 1156.01it/s]\n"
     ]
    }
   ],
   "source": [
    "ld = train_discr(G, D, learning_rate, epochs, entropy)"
   ]
  },
  {
   "cell_type": "code",
   "execution_count": 6,
   "id": "cb73eca8-475e-42a8-becd-d3aa93b6649d",
   "metadata": {
    "tags": []
   },
   "outputs": [
    {
     "name": "stderr",
     "output_type": "stream",
     "text": [
      "100%|██████████| 50000/50000 [00:10<00:00, 4908.21it/s]\n"
     ]
    }
   ],
   "source": [
    "sampled_gen = []\n",
    "for _ in tqdm(range(50000)):\n",
    "    eps = G.simulate()\n",
    "    sampled_gen.append(G.noise_to_x(eps).detach().numpy().item())"
   ]
  },
  {
   "cell_type": "code",
   "execution_count": 8,
   "id": "962bb71b-ec58-4967-94e3-2152110330ce",
   "metadata": {},
   "outputs": [],
   "source": [
    "xmin = -15\n",
    "xmax = 15\n",
    "xx = torch.Tensor(np.linspace(xmin,xmax,1000))\n",
    "Z = torch.mean(torch.exp(D.logd(xx))) * (xmax - xmin) "
   ]
  },
  {
   "cell_type": "code",
   "execution_count": 10,
   "id": "d5c39c98-5980-4d78-8bd6-8daa93c2fb47",
   "metadata": {},
   "outputs": [
    {
     "data": {
      "image/png": "[encoded data removed]",
      "text/plain": [
       "<Figure size 480x320 with 1 Axes>"
      ]
     },
     "metadata": {
      "needs_background": "light"
     },
     "output_type": "display_data"
    }
   ],
   "source": [
    "fig, ax = plt.subplots()\n",
    "seaborn.kdeplot(np.hstack(sampled_gen), label='generator') #kernel density plot \n",
    "ax.plot(xx, (torch.exp(D.logd(xx))/Z).detach().numpy(), label ='full model D/Z')\n",
    "ax.legend()\n",
    "fig.set_dpi(80)"
   ]
  },
  {
   "cell_type": "code",
   "execution_count": null,
   "id": "8fb6e68f-df6f-4011-bd17-410225d6e5f5",
   "metadata": {},
   "outputs": [],
   "source": []
  },
  {
   "cell_type": "code",
   "execution_count": null,
   "id": "376ed0ad-c776-48f7-b982-48660abdc912",
   "metadata": {},
   "outputs": [],
   "source": []
  },
  {
   "cell_type": "code",
   "execution_count": null,
   "id": "db95d00b-a2d5-4974-bddd-a34b6a00d6c0",
   "metadata": {},
   "outputs": [],
   "source": []
  },
  {
   "cell_type": "code",
   "execution_count": null,
   "id": "63040e8f-d18b-42a0-804d-d1112da885cc",
   "metadata": {},
   "outputs": [],
   "source": []
  }
 ],
 "metadata": {
  "kernelspec": {
   "display_name": "Python 3",
   "language": "python",
   "name": "python3"
  },
  "language_info": {
   "codemirror_mode": {
    "name": "ipython",
    "version": 3
   },
   "file_extension": ".py",
   "mimetype": "text/x-python",
   "name": "python",
   "nbconvert_exporter": "python",
   "pygments_lexer": "ipython3",
   "version": "3.6.8"
  }
 },
 "nbformat": 4,
 "nbformat_minor": 5
}
